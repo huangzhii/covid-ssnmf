{
 "cells": [
  {
   "cell_type": "markdown",
   "metadata": {},
   "source": [
    "## SSNMF Methods"
   ]
  },
  {
   "cell_type": "code",
   "execution_count": 48,
   "metadata": {},
   "outputs": [],
   "source": [
    "import numpy as np\n",
    "from numpy import linalg as la"
   ]
  },
  {
   "cell_type": "code",
   "execution_count": 72,
   "metadata": {
    "collapsed": true
   },
   "outputs": [],
   "source": [
    "#multiplicative updates for NMF, for input X of size m x n outputs A of size m x k and S of size k x n so that X ~ AS\n",
    "#input: numpy array X, integer number of topics k\n",
    "#optional input: numpy array A (initialization), numpy array S (initialization)\n",
    "#output: numpy array A, numpy array S\n",
    "def multupdates(X,k,**kwargs):\n",
    "    rows,cols = np.shape(X)\n",
    "    \n",
    "    #get optional arguments or set to default\n",
    "    A = kwargs.get('A', np.random.rand(rows,k))\n",
    "    S = kwargs.get('S', np.random.rand(k,cols))\n",
    "    numiters = kwargs.get('numiters', 10)\n",
    "    saveerrs = kwargs.get('saveerrs', False)\n",
    "    \n",
    "    \n",
    "    if saveerrs:\n",
    "        errs = np.empty(numiters) #initialize error array \n",
    "    \n",
    "    for i in range(numiters):\n",
    "        #multiplicative updates for A and S\n",
    "        A = np.multiply(np.divide(A,A @ S @ np.transpose(S)), X @ np.transpose(S))\n",
    "        S = np.multiply(np.divide(S,np.transpose(A) @ A @ S), np.transpose(A) @ X)\n",
    "        \n",
    "        if saveerrs:\n",
    "            errs[i] = la.norm(X - A @ S, 'fro') #save reconstruction error\n",
    "        \n",
    "    if saveerrs:\n",
    "        return A,S,errs\n",
    "    else:\n",
    "        return A,S"
   ]
  },
  {
   "cell_type": "code",
   "execution_count": 83,
   "metadata": {},
   "outputs": [],
   "source": [
    "A,S,errs = multupdates(np.random.rand(100,100),5,numiters = 15, saveerrs = True)"
   ]
  },
  {
   "cell_type": "code",
   "execution_count": 84,
   "metadata": {},
   "outputs": [
    {
     "data": {
      "text/plain": [
       "array([ 29.13877117,  28.89417472,  28.71560793,  28.57198702,\n",
       "        28.45287335,  28.35155693,  28.26354982,  28.18575731,\n",
       "        28.11599126,  28.05267149,  27.99463529,  27.94101204,\n",
       "        27.89113848,  27.8445004 ,  27.80069212])"
      ]
     },
     "execution_count": 84,
     "metadata": {},
     "output_type": "execute_result"
    }
   ],
   "source": [
    "errs"
   ]
  },
  {
   "cell_type": "code",
   "execution_count": null,
   "metadata": {
    "collapsed": true
   },
   "outputs": [],
   "source": []
  }
 ],
 "metadata": {
  "kernelspec": {
   "display_name": "Python 3",
   "language": "python",
   "name": "python3"
  },
  "language_info": {
   "codemirror_mode": {
    "name": "ipython",
    "version": 3
   },
   "file_extension": ".py",
   "mimetype": "text/x-python",
   "name": "python",
   "nbconvert_exporter": "python",
   "pygments_lexer": "ipython3",
   "version": "3.6.3"
  }
 },
 "nbformat": 4,
 "nbformat_minor": 2
}
